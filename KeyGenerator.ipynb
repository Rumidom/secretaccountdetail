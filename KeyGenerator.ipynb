{
 "cells": [
  {
   "cell_type": "code",
   "execution_count": 171,
   "id": "40bff770-1fd6-4c80-a283-497a34d4f70e",
   "metadata": {},
   "outputs": [
    {
     "name": "stdout",
     "output_type": "stream",
     "text": [
      "b'webirc.oftc.net\\x00\\x00\\x00\\x00\\x00\\x00\\x00\\x00\\x00\\x00\\x00\\x00\\x00\\x00\\x00\\x00\\x00\\x05Teste\\x00\\x00\\x00\\x00\\x00\\x00\\x00\\x00\\x00\\x00\\x00\\x00\\x00\\x00\\x00\\x00\\x00\\x00\\x00\\x00\\x00\\x00\\x00\\x00\\x00\\x00\\x00e\\xf02{w\\x19\\x8b\\xb0\\x16y\\n\\xc6)U;,\\xf8W%Xa\\xf6\\xd2Ik\\x9e:M\\xbb\\xddAE'\n",
      "(bytearray(b'webirc.oftc.net'), bytearray(b'Teste'), bytearray(b'e\\xf02{w\\x19\\x8b\\xb0\\x16y\\n\\xc6)U;,\\xf8W%Xa\\xf6\\xd2Ik\\x9e:M\\xbb\\xddAE'))\n"
     ]
    }
   ],
   "source": [
    "import random\n",
    "\n",
    "def ASCII_Decode(b_arr):\n",
    "    return bytearray((x if x <= 127 else ord('?') for x in b_arr)).decode()\n",
    "\n",
    "def ASCII_Encode(string):\n",
    "    for i in range(len(string)):\n",
    "        if not (ord(string[i]) <= 127):\n",
    "            string[i] = \"?\"\n",
    "    return string.encode(\"ascii\")\n",
    "\n",
    "def Padbytearray(size,b_arr):\n",
    "    b_arr = b_arr + b'\\x00' * (size - (len(b_arr) ))\n",
    "    return(b_arr)\n",
    "\n",
    "def GenerateKey(ircserver,channelname):\n",
    "    #ircserver e keyname são de no maximo 32 caracteres\n",
    "    p1 = Padbytearray(32,ASCII_Encode(ircserver))\n",
    "    p2 = len(channelname).to_bytes(1, 'little')\n",
    "    p3 = Padbytearray(32,ASCII_Encode(channelname))\n",
    "    p4 = GenerateRandomByteArr(32)\n",
    "    return(p1+p2+p3+p4)\n",
    "    \n",
    "def GetKeyData(key):\n",
    "    ircserver = bytearray()\n",
    "    channelname = bytearray()\n",
    "    enckey = bytearray()\n",
    "    for i in range(32):\n",
    "        if key[i] != 0:\n",
    "            ircserver += key[i].to_bytes(1, 'little')\n",
    "    for i in range(33,64):\n",
    "        if key[i] != 0:\n",
    "            channelname += key[i].to_bytes(1, 'little')\n",
    "    enckey += key[65:] \n",
    "    return(ircserver,channelname,enckey)\n",
    "\n",
    "def GenerateRandomByteArr(size,seed=None):\n",
    "    # could use os.urandom(32)\n",
    "    random.seed(seed)\n",
    "    key = b''\n",
    "    for i in range(size):\n",
    "        key += random.getrandbits(8).to_bytes(1,'big')\n",
    "    return key\n",
    "\n",
    "def GetNumEnckey(b_arr):\n",
    "    numlist = []\n",
    "    for char in b_arr:\n",
    "        numlist.append(char)\n",
    "        \n",
    "    return numlist \n",
    "    \n",
    "ircserver = \"webirc.oftc.net\"\n",
    "channelname = \"Teste\"\n",
    "key = GenerateKey(ircserver,channelname)\n",
    "print(key)\n",
    "print(GetKeyData(key))"
   ]
  },
  {
   "cell_type": "code",
   "execution_count": 174,
   "id": "d0f3d278-376f-46c8-a807-c4d914cae0d3",
   "metadata": {},
   "outputs": [
    {
     "name": "stdout",
     "output_type": "stream",
     "text": [
      "[101, 240, 50, 123, 119, 25, 139, 176, 22, 121, 10, 198, 41, 85, 59, 44, 248, 87, 37, 88, 97, 246, 210, 73, 107, 158, 58, 77, 187, 221, 65, 69]\n"
     ]
    }
   ],
   "source": [
    "print(GetNumEnckey(GetKeyData(key)[2]))"
   ]
  },
  {
   "cell_type": "code",
   "execution_count": null,
   "id": "38f7d9fb-5ebd-4f2e-81d1-ca1c3e5f8c61",
   "metadata": {},
   "outputs": [],
   "source": []
  }
 ],
 "metadata": {
  "kernelspec": {
   "display_name": "Python 3 (ipykernel)",
   "language": "python",
   "name": "python3"
  },
  "language_info": {
   "codemirror_mode": {
    "name": "ipython",
    "version": 3
   },
   "file_extension": ".py",
   "mimetype": "text/x-python",
   "name": "python",
   "nbconvert_exporter": "python",
   "pygments_lexer": "ipython3",
   "version": "3.12.7"
  }
 },
 "nbformat": 4,
 "nbformat_minor": 5
}
